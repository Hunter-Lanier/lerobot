{
 "cells": [
  {
   "cell_type": "code",
   "execution_count": 1,
   "id": "21ca9b2c-606f-43b4-9b9f-64ea14ff17f4",
   "metadata": {},
   "outputs": [],
   "source": [
    "from lerobot.common.robot_devices.motors.dynamixel import DynamixelMotorsBus"
   ]
  },
  {
   "cell_type": "code",
   "execution_count": 3,
   "id": "999f368e-1910-4cf3-a9b4-52779a2db354",
   "metadata": {},
   "outputs": [],
   "source": [
    "leader_port = \"/dev/tty.usbmodem585A0081721\"\n",
    "follower_port = \"/dev/tty.usbmodem585A007703\""
   ]
  },
  {
   "cell_type": "code",
   "execution_count": 4,
   "id": "fbdd4422-3883-467d-a054-a35efaf06438",
   "metadata": {},
   "outputs": [],
   "source": [
    "leader_arm = DynamixelMotorsBus(\n",
    "    port=leader_port,\n",
    "    motors={\n",
    "        # name: (index, model)\n",
    "       \"shoulder_pan\": (1, \"xl330-m077\"),\n",
    "        \"shoulder_lift\": (2, \"xl330-m077\"),\n",
    "        \"elbow_flex\": (3, \"xl330-m077\"),\n",
    "        \"wrist_flex\": (4, \"xl330-m077\"),\n",
    "        \"wrist_roll\": (5, \"xl330-m077\"),\n",
    "        \"gripper\": (6, \"xl330-m077\"),\n",
    "    },\n",
    ")\n",
    "\n",
    "follower_arm = DynamixelMotorsBus(\n",
    "    port=follower_port,\n",
    "    motors={\n",
    "        # name: (index, model)\n",
    "        \"shoulder_pan\": (1, \"xl430-w250\"),\n",
    "        \"shoulder_lift\": (2, \"xl430-w250\"),\n",
    "        \"elbow_flex\": (3, \"xl330-m288\"),\n",
    "        \"wrist_flex\": (4, \"xl330-m288\"),\n",
    "        \"wrist_roll\": (5, \"xl330-m288\"),\n",
    "        \"gripper\": (6, \"xl330-m288\"),\n",
    "    },\n",
    ")"
   ]
  },
  {
   "cell_type": "code",
   "execution_count": 6,
   "id": "547e9cfe-976d-44ce-a022-02536767c315",
   "metadata": {},
   "outputs": [
    {
     "ename": "RobotDeviceAlreadyConnectedError",
     "evalue": "DynamixelMotorsBus(/dev/tty.usbmodem585A0081721) is already connected. Do not call `motors_bus.connect()` twice.",
     "output_type": "error",
     "traceback": [
      "\u001b[0;31m---------------------------------------------------------------------------\u001b[0m",
      "\u001b[0;31mRobotDeviceAlreadyConnectedError\u001b[0m          Traceback (most recent call last)",
      "Cell \u001b[0;32mIn[6], line 1\u001b[0m\n\u001b[0;32m----> 1\u001b[0m leader_arm\u001b[38;5;241m.\u001b[39mconnect()\n",
      "File \u001b[0;32m~/repos/lerobot/lerobot/common/robot_devices/motors/dynamixel.py:335\u001b[0m, in \u001b[0;36mDynamixelMotorsBus.connect\u001b[0;34m(self)\u001b[0m\n\u001b[1;32m    333\u001b[0m \u001b[38;5;28;01mdef\u001b[39;00m \u001b[38;5;21mconnect\u001b[39m(\u001b[38;5;28mself\u001b[39m):\n\u001b[1;32m    334\u001b[0m     \u001b[38;5;28;01mif\u001b[39;00m \u001b[38;5;28mself\u001b[39m\u001b[38;5;241m.\u001b[39mis_connected:\n\u001b[0;32m--> 335\u001b[0m         \u001b[38;5;28;01mraise\u001b[39;00m RobotDeviceAlreadyConnectedError(\n\u001b[1;32m    336\u001b[0m             \u001b[38;5;124mf\u001b[39m\u001b[38;5;124m\"\u001b[39m\u001b[38;5;124mDynamixelMotorsBus(\u001b[39m\u001b[38;5;132;01m{\u001b[39;00m\u001b[38;5;28mself\u001b[39m\u001b[38;5;241m.\u001b[39mport\u001b[38;5;132;01m}\u001b[39;00m\u001b[38;5;124m) is already connected. Do not call `motors_bus.connect()` twice.\u001b[39m\u001b[38;5;124m\"\u001b[39m\n\u001b[1;32m    337\u001b[0m         )\n\u001b[1;32m    339\u001b[0m     \u001b[38;5;28mself\u001b[39m\u001b[38;5;241m.\u001b[39mport_handler \u001b[38;5;241m=\u001b[39m PortHandler(\u001b[38;5;28mself\u001b[39m\u001b[38;5;241m.\u001b[39mport)\n\u001b[1;32m    340\u001b[0m     \u001b[38;5;28mself\u001b[39m\u001b[38;5;241m.\u001b[39mpacket_handler \u001b[38;5;241m=\u001b[39m PacketHandler(PROTOCOL_VERSION)\n",
      "\u001b[0;31mRobotDeviceAlreadyConnectedError\u001b[0m: DynamixelMotorsBus(/dev/tty.usbmodem585A0081721) is already connected. Do not call `motors_bus.connect()` twice."
     ]
    }
   ],
   "source": [
    "leader_arm.connect()"
   ]
  },
  {
   "cell_type": "code",
   "execution_count": null,
   "id": "8c3885ed-9bfa-45c2-a971-73632f2b1930",
   "metadata": {},
   "outputs": [],
   "source": [
    "follower_arm.connect()"
   ]
  }
 ],
 "metadata": {
  "kernelspec": {
   "display_name": "Python 3 (ipykernel)",
   "language": "python",
   "name": "python3"
  },
  "language_info": {
   "codemirror_mode": {
    "name": "ipython",
    "version": 3
   },
   "file_extension": ".py",
   "mimetype": "text/x-python",
   "name": "python",
   "nbconvert_exporter": "python",
   "pygments_lexer": "ipython3",
   "version": "3.12.4"
  }
 },
 "nbformat": 4,
 "nbformat_minor": 5
}
